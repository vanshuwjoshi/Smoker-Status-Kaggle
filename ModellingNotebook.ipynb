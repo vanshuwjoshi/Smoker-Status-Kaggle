{
 "cells": [
  {
   "cell_type": "code",
   "execution_count": 1,
   "id": "3a0683cf",
   "metadata": {
    "_cell_guid": "b1076dfc-b9ad-4769-8c92-a6c4dae69d19",
    "_uuid": "8f2839f25d086af736a60e9eeb907d3b93b6e0e5",
    "execution": {
     "iopub.execute_input": "2023-11-27T18:40:38.504106Z",
     "iopub.status.busy": "2023-11-27T18:40:38.503721Z",
     "iopub.status.idle": "2023-11-27T18:40:39.178505Z",
     "shell.execute_reply": "2023-11-27T18:40:39.177083Z"
    },
    "papermill": {
     "duration": 0.685092,
     "end_time": "2023-11-27T18:40:39.180556",
     "exception": false,
     "start_time": "2023-11-27T18:40:38.495464",
     "status": "completed"
    },
    "tags": []
   },
   "outputs": [
    {
     "name": "stdout",
     "output_type": "stream",
     "text": [
      "/kaggle/input/playground-series-s3e24/sample_submission.csv\n",
      "/kaggle/input/playground-series-s3e24/train.csv\n",
      "/kaggle/input/playground-series-s3e24/test.csv\n"
     ]
    }
   ],
   "source": [
    "# This Python 3 environment comes with many helpful analytics libraries installed\n",
    "# It is defined by the kaggle/python Docker image: https://github.com/kaggle/docker-python\n",
    "# For example, here's several helpful packages to load\n",
    "\n",
    "import numpy as np # linear algebra\n",
    "import pandas as pd # data processing, CSV file I/O (e.g. pd.read_csv)\n",
    "\n",
    "# Input data files are available in the read-only \"../input/\" directory\n",
    "# For example, running this (by clicking run or pressing Shift+Enter) will list all files under the input directory\n",
    "\n",
    "import os\n",
    "for dirname, _, filenames in os.walk('/kaggle/input'):\n",
    "   for filename in filenames:\n",
    "      print(os.path.join(dirname, filename))\n",
    "\n",
    "# You can write up to 20GB to the current directory (/kaggle/working/) that gets preserved as output when you create a version using \"Save & Run All\" \n",
    "# You can also write temporary files to /kaggle/temp/, but they won't be saved outside of the current session"
   ]
  },
  {
   "cell_type": "code",
   "execution_count": 2,
   "id": "b98f4bb9",
   "metadata": {
    "execution": {
     "iopub.execute_input": "2023-11-27T18:40:39.195395Z",
     "iopub.status.busy": "2023-11-27T18:40:39.194569Z",
     "iopub.status.idle": "2023-11-27T18:40:40.209184Z",
     "shell.execute_reply": "2023-11-27T18:40:40.208422Z"
    },
    "papermill": {
     "duration": 1.024029,
     "end_time": "2023-11-27T18:40:40.211388",
     "exception": false,
     "start_time": "2023-11-27T18:40:39.187359",
     "status": "completed"
    },
    "tags": []
   },
   "outputs": [],
   "source": [
    "import seaborn as sns\n",
    "import matplotlib.pyplot as plt\n",
    "%matplotlib inline"
   ]
  },
  {
   "cell_type": "code",
   "execution_count": 3,
   "id": "ffd28ce4",
   "metadata": {
    "execution": {
     "iopub.execute_input": "2023-11-27T18:40:40.226621Z",
     "iopub.status.busy": "2023-11-27T18:40:40.225340Z",
     "iopub.status.idle": "2023-11-27T18:40:41.035670Z",
     "shell.execute_reply": "2023-11-27T18:40:41.034786Z"
    },
    "papermill": {
     "duration": 0.820106,
     "end_time": "2023-11-27T18:40:41.038128",
     "exception": false,
     "start_time": "2023-11-27T18:40:40.218022",
     "status": "completed"
    },
    "tags": []
   },
   "outputs": [],
   "source": [
    "from sklearn.linear_model import LogisticRegression\n",
    "from sklearn.linear_model import Perceptron\n",
    "from sklearn.linear_model import SGDClassifier\n",
    "from sklearn.svm import SVC, LinearSVC\n",
    "from sklearn.ensemble import RandomForestClassifier\n",
    "from sklearn.neighbors import KNeighborsClassifier\n",
    "from sklearn.naive_bayes import GaussianNB\n",
    "from sklearn.tree import DecisionTreeClassifier\n",
    "from xgboost import XGBClassifier\n",
    "from catboost import CatBoostClassifier"
   ]
  },
  {
   "cell_type": "code",
   "execution_count": 4,
   "id": "3ce76220",
   "metadata": {
    "execution": {
     "iopub.execute_input": "2023-11-27T18:40:41.053431Z",
     "iopub.status.busy": "2023-11-27T18:40:41.052392Z",
     "iopub.status.idle": "2023-11-27T18:40:41.669876Z",
     "shell.execute_reply": "2023-11-27T18:40:41.669087Z"
    },
    "papermill": {
     "duration": 0.627491,
     "end_time": "2023-11-27T18:40:41.672362",
     "exception": false,
     "start_time": "2023-11-27T18:40:41.044871",
     "status": "completed"
    },
    "tags": []
   },
   "outputs": [],
   "source": [
    "train = pd.read_csv(\"/kaggle/input/playground-series-s3e24/train.csv\")\n",
    "test = pd.read_csv(\"/kaggle/input/playground-series-s3e24/test.csv\")"
   ]
  },
  {
   "cell_type": "code",
   "execution_count": 5,
   "id": "a025aba4",
   "metadata": {
    "execution": {
     "iopub.execute_input": "2023-11-27T18:40:41.686420Z",
     "iopub.status.busy": "2023-11-27T18:40:41.685936Z",
     "iopub.status.idle": "2023-11-27T18:40:41.730833Z",
     "shell.execute_reply": "2023-11-27T18:40:41.730018Z"
    },
    "papermill": {
     "duration": 0.053504,
     "end_time": "2023-11-27T18:40:41.732577",
     "exception": false,
     "start_time": "2023-11-27T18:40:41.679073",
     "status": "completed"
    },
    "tags": []
   },
   "outputs": [
    {
     "data": {
      "text/plain": [
       "[            id  age  height(cm)  weight(kg)  waist(cm)  eyesight(left)  \\\n",
       " 0            0   55         165          60       81.0             0.5   \n",
       " 1            1   70         165          65       89.0             0.6   \n",
       " 2            2   20         170          75       81.0             0.4   \n",
       " 3            3   35         180          95      105.0             1.5   \n",
       " 4            4   30         165          60       80.5             1.5   \n",
       " ...        ...  ...         ...         ...        ...             ...   \n",
       " 159251  159251   40         155          45       69.0             1.5   \n",
       " 159252  159252   50         155          75       82.0             1.0   \n",
       " 159253  159253   40         160          50       66.0             1.5   \n",
       " 159254  159254   50         165          75       92.0             1.2   \n",
       " 159255  159255   40         145          45       76.4             1.0   \n",
       " \n",
       "         eyesight(right)  hearing(left)  hearing(right)  systolic  ...  HDL  \\\n",
       " 0                   0.6              1               1       135  ...   40   \n",
       " 1                   0.7              2               2       146  ...   57   \n",
       " 2                   0.5              1               1       118  ...   45   \n",
       " 3                   1.2              1               1       131  ...   38   \n",
       " 4                   1.0              1               1       121  ...   44   \n",
       " ...                 ...            ...             ...       ...  ...  ...   \n",
       " 159251              2.0              1               1       127  ...   72   \n",
       " 159252              1.0              1               1       120  ...   64   \n",
       " 159253              1.0              1               1       114  ...   87   \n",
       " 159254              1.0              1               1       121  ...   55   \n",
       " 159255              1.2              1               1       125  ...   87   \n",
       " \n",
       "         LDL  hemoglobin  Urine protein  serum creatinine  AST  ALT  Gtp  \\\n",
       " 0        75        16.5              1               1.0   22   25   27   \n",
       " 1       126        16.2              1               1.1   27   23   37   \n",
       " 2        93        17.4              1               0.8   27   31   53   \n",
       " 3       102        15.9              1               1.0   20   27   30   \n",
       " 4        93        15.4              1               0.8   19   13   17   \n",
       " ...     ...         ...            ...               ...  ...  ...  ...   \n",
       " 159251  159        14.5              1               0.8   25   26   13   \n",
       " 159252  108        14.5              1               0.6   21   20   18   \n",
       " 159253   93        10.9              1               0.6   15    9   12   \n",
       " 159254   80        14.4              1               1.1   22   17   37   \n",
       " 159255   81        14.0              1               0.8   21   16   17   \n",
       " \n",
       "         dental caries  smoking  \n",
       " 0                   0        1  \n",
       " 1                   1        0  \n",
       " 2                   0        1  \n",
       " 3                   1        0  \n",
       " 4                   0        1  \n",
       " ...               ...      ...  \n",
       " 159251              0        0  \n",
       " 159252              0        0  \n",
       " 159253              0        0  \n",
       " 159254              0        1  \n",
       " 159255              0        0  \n",
       " \n",
       " [159256 rows x 24 columns],\n",
       "             id  age  height(cm)  weight(kg)  waist(cm)  eyesight(left)  \\\n",
       " 0       159256   40         165          70       84.0             1.2   \n",
       " 1       159257   80         160          60       93.0             1.0   \n",
       " 2       159258   60         170          70       86.5             0.6   \n",
       " 3       159259   40         160          50       67.0             0.3   \n",
       " 4       159260   40         170          75       89.4             1.0   \n",
       " ...        ...  ...         ...         ...        ...             ...   \n",
       " 106166  265422   40         165          60       78.0             0.8   \n",
       " 106167  265423   40         170          85       95.0             1.2   \n",
       " 106168  265424   35         170          85       89.0             1.2   \n",
       " 106169  265425   40         160          60       67.0             0.7   \n",
       " 106170  265426   50         150          50       80.0             0.9   \n",
       " \n",
       "         eyesight(right)  hearing(left)  hearing(right)  systolic  ...  \\\n",
       " 0                   1.2              1               1       130  ...   \n",
       " 1                   1.0              2               2       144  ...   \n",
       " 2                   0.7              1               1       117  ...   \n",
       " 3                   0.4              1               1       116  ...   \n",
       " 4                   0.9              1               1       132  ...   \n",
       " ...                 ...            ...             ...       ...  ...   \n",
       " 106166              0.9              1               1       112  ...   \n",
       " 106167              1.2              1               1       130  ...   \n",
       " 106168              1.2              1               1       131  ...   \n",
       " 106169              0.8              1               1       120  ...   \n",
       " 106170              1.0              1               1       115  ...   \n",
       " \n",
       "         triglyceride  HDL  LDL  hemoglobin  Urine protein  serum creatinine  \\\n",
       " 0                186   49  115        14.2              1               0.9   \n",
       " 1                158   35  104        13.0              1               1.1   \n",
       " 2                173   39   88        15.4              1               1.4   \n",
       " 3                 47   75  128        14.5              1               0.6   \n",
       " 4                100   39  123        16.5              1               1.0   \n",
       " ...              ...  ...  ...         ...            ...               ...   \n",
       " 106166            82   59  149        16.4              1               1.1   \n",
       " 106167           186   44  100        16.0              2               1.0   \n",
       " 106168            76   53  142        15.9              1               0.8   \n",
       " 106169            81   55  103        13.9              1               0.6   \n",
       " 106170            96   48  144        13.0              1               0.6   \n",
       " \n",
       "         AST  ALT  Gtp  dental caries  \n",
       " 0        19   25   32              0  \n",
       " 1        20   12   24              0  \n",
       " 2        38   60   36              0  \n",
       " 3        25   18   10              1  \n",
       " 4        30   39   27              1  \n",
       " ...     ...  ...  ...            ...  \n",
       " 106166   24   31   28              0  \n",
       " 106167   25   31   38              0  \n",
       " 106168   33   32   24              1  \n",
       " 106169   42   36   32              0  \n",
       " 106170   18   11   17              1  \n",
       " \n",
       " [106171 rows x 23 columns]]"
      ]
     },
     "execution_count": 5,
     "metadata": {},
     "output_type": "execute_result"
    }
   ],
   "source": [
    "combine_df = [train,test]\n",
    "combine_df"
   ]
  },
  {
   "cell_type": "code",
   "execution_count": 6,
   "id": "a37efd67",
   "metadata": {
    "execution": {
     "iopub.execute_input": "2023-11-27T18:40:41.746435Z",
     "iopub.status.busy": "2023-11-27T18:40:41.746167Z",
     "iopub.status.idle": "2023-11-27T18:40:41.759962Z",
     "shell.execute_reply": "2023-11-27T18:40:41.759223Z"
    },
    "papermill": {
     "duration": 0.02252,
     "end_time": "2023-11-27T18:40:41.761668",
     "exception": false,
     "start_time": "2023-11-27T18:40:41.739148",
     "status": "completed"
    },
    "tags": []
   },
   "outputs": [],
   "source": [
    "train = train.drop([\"id\",\"hearing(left)\",\"hearing(right)\",\"AST\"],axis=1)\n",
    "test = test.drop([\"hearing(left)\",\"hearing(right)\",\"AST\"],axis=1)\n",
    "combine_df = [train,test]"
   ]
  },
  {
   "cell_type": "code",
   "execution_count": 7,
   "id": "3087c05a",
   "metadata": {
    "execution": {
     "iopub.execute_input": "2023-11-27T18:40:41.775320Z",
     "iopub.status.busy": "2023-11-27T18:40:41.774890Z",
     "iopub.status.idle": "2023-11-27T18:40:41.792791Z",
     "shell.execute_reply": "2023-11-27T18:40:41.792146Z"
    },
    "papermill": {
     "duration": 0.026344,
     "end_time": "2023-11-27T18:40:41.794238",
     "exception": false,
     "start_time": "2023-11-27T18:40:41.767894",
     "status": "completed"
    },
    "tags": []
   },
   "outputs": [
    {
     "data": {
      "text/html": [
       "<div>\n",
       "<style scoped>\n",
       "    .dataframe tbody tr th:only-of-type {\n",
       "        vertical-align: middle;\n",
       "    }\n",
       "\n",
       "    .dataframe tbody tr th {\n",
       "        vertical-align: top;\n",
       "    }\n",
       "\n",
       "    .dataframe thead th {\n",
       "        text-align: right;\n",
       "    }\n",
       "</style>\n",
       "<table border=\"1\" class=\"dataframe\">\n",
       "  <thead>\n",
       "    <tr style=\"text-align: right;\">\n",
       "      <th></th>\n",
       "      <th>age</th>\n",
       "      <th>height(cm)</th>\n",
       "      <th>weight(kg)</th>\n",
       "      <th>waist(cm)</th>\n",
       "      <th>eyesight(left)</th>\n",
       "      <th>eyesight(right)</th>\n",
       "      <th>systolic</th>\n",
       "      <th>relaxation</th>\n",
       "      <th>fasting blood sugar</th>\n",
       "      <th>Cholesterol</th>\n",
       "      <th>triglyceride</th>\n",
       "      <th>HDL</th>\n",
       "      <th>LDL</th>\n",
       "      <th>hemoglobin</th>\n",
       "      <th>Urine protein</th>\n",
       "      <th>serum creatinine</th>\n",
       "      <th>ALT</th>\n",
       "      <th>Gtp</th>\n",
       "      <th>dental caries</th>\n",
       "      <th>smoking</th>\n",
       "    </tr>\n",
       "  </thead>\n",
       "  <tbody>\n",
       "    <tr>\n",
       "      <th>0</th>\n",
       "      <td>55</td>\n",
       "      <td>165</td>\n",
       "      <td>60</td>\n",
       "      <td>81.0</td>\n",
       "      <td>0.5</td>\n",
       "      <td>0.6</td>\n",
       "      <td>135</td>\n",
       "      <td>87</td>\n",
       "      <td>94</td>\n",
       "      <td>172</td>\n",
       "      <td>300</td>\n",
       "      <td>40</td>\n",
       "      <td>75</td>\n",
       "      <td>16.5</td>\n",
       "      <td>1</td>\n",
       "      <td>1.0</td>\n",
       "      <td>25</td>\n",
       "      <td>27</td>\n",
       "      <td>0</td>\n",
       "      <td>1</td>\n",
       "    </tr>\n",
       "    <tr>\n",
       "      <th>1</th>\n",
       "      <td>70</td>\n",
       "      <td>165</td>\n",
       "      <td>65</td>\n",
       "      <td>89.0</td>\n",
       "      <td>0.6</td>\n",
       "      <td>0.7</td>\n",
       "      <td>146</td>\n",
       "      <td>83</td>\n",
       "      <td>147</td>\n",
       "      <td>194</td>\n",
       "      <td>55</td>\n",
       "      <td>57</td>\n",
       "      <td>126</td>\n",
       "      <td>16.2</td>\n",
       "      <td>1</td>\n",
       "      <td>1.1</td>\n",
       "      <td>23</td>\n",
       "      <td>37</td>\n",
       "      <td>1</td>\n",
       "      <td>0</td>\n",
       "    </tr>\n",
       "    <tr>\n",
       "      <th>2</th>\n",
       "      <td>20</td>\n",
       "      <td>170</td>\n",
       "      <td>75</td>\n",
       "      <td>81.0</td>\n",
       "      <td>0.4</td>\n",
       "      <td>0.5</td>\n",
       "      <td>118</td>\n",
       "      <td>75</td>\n",
       "      <td>79</td>\n",
       "      <td>178</td>\n",
       "      <td>197</td>\n",
       "      <td>45</td>\n",
       "      <td>93</td>\n",
       "      <td>17.4</td>\n",
       "      <td>1</td>\n",
       "      <td>0.8</td>\n",
       "      <td>31</td>\n",
       "      <td>53</td>\n",
       "      <td>0</td>\n",
       "      <td>1</td>\n",
       "    </tr>\n",
       "    <tr>\n",
       "      <th>3</th>\n",
       "      <td>35</td>\n",
       "      <td>180</td>\n",
       "      <td>95</td>\n",
       "      <td>105.0</td>\n",
       "      <td>1.5</td>\n",
       "      <td>1.2</td>\n",
       "      <td>131</td>\n",
       "      <td>88</td>\n",
       "      <td>91</td>\n",
       "      <td>180</td>\n",
       "      <td>203</td>\n",
       "      <td>38</td>\n",
       "      <td>102</td>\n",
       "      <td>15.9</td>\n",
       "      <td>1</td>\n",
       "      <td>1.0</td>\n",
       "      <td>27</td>\n",
       "      <td>30</td>\n",
       "      <td>1</td>\n",
       "      <td>0</td>\n",
       "    </tr>\n",
       "    <tr>\n",
       "      <th>4</th>\n",
       "      <td>30</td>\n",
       "      <td>165</td>\n",
       "      <td>60</td>\n",
       "      <td>80.5</td>\n",
       "      <td>1.5</td>\n",
       "      <td>1.0</td>\n",
       "      <td>121</td>\n",
       "      <td>76</td>\n",
       "      <td>91</td>\n",
       "      <td>155</td>\n",
       "      <td>87</td>\n",
       "      <td>44</td>\n",
       "      <td>93</td>\n",
       "      <td>15.4</td>\n",
       "      <td>1</td>\n",
       "      <td>0.8</td>\n",
       "      <td>13</td>\n",
       "      <td>17</td>\n",
       "      <td>0</td>\n",
       "      <td>1</td>\n",
       "    </tr>\n",
       "  </tbody>\n",
       "</table>\n",
       "</div>"
      ],
      "text/plain": [
       "   age  height(cm)  weight(kg)  waist(cm)  eyesight(left)  eyesight(right)  \\\n",
       "0   55         165          60       81.0             0.5              0.6   \n",
       "1   70         165          65       89.0             0.6              0.7   \n",
       "2   20         170          75       81.0             0.4              0.5   \n",
       "3   35         180          95      105.0             1.5              1.2   \n",
       "4   30         165          60       80.5             1.5              1.0   \n",
       "\n",
       "   systolic  relaxation  fasting blood sugar  Cholesterol  triglyceride  HDL  \\\n",
       "0       135          87                   94          172           300   40   \n",
       "1       146          83                  147          194            55   57   \n",
       "2       118          75                   79          178           197   45   \n",
       "3       131          88                   91          180           203   38   \n",
       "4       121          76                   91          155            87   44   \n",
       "\n",
       "   LDL  hemoglobin  Urine protein  serum creatinine  ALT  Gtp  dental caries  \\\n",
       "0   75        16.5              1               1.0   25   27              0   \n",
       "1  126        16.2              1               1.1   23   37              1   \n",
       "2   93        17.4              1               0.8   31   53              0   \n",
       "3  102        15.9              1               1.0   27   30              1   \n",
       "4   93        15.4              1               0.8   13   17              0   \n",
       "\n",
       "   smoking  \n",
       "0        1  \n",
       "1        0  \n",
       "2        1  \n",
       "3        0  \n",
       "4        1  "
      ]
     },
     "execution_count": 7,
     "metadata": {},
     "output_type": "execute_result"
    }
   ],
   "source": [
    "train.head()"
   ]
  },
  {
   "cell_type": "code",
   "execution_count": 8,
   "id": "60220d67",
   "metadata": {
    "execution": {
     "iopub.execute_input": "2023-11-27T18:40:41.807915Z",
     "iopub.status.busy": "2023-11-27T18:40:41.807658Z",
     "iopub.status.idle": "2023-11-27T18:40:41.834906Z",
     "shell.execute_reply": "2023-11-27T18:40:41.834212Z"
    },
    "papermill": {
     "duration": 0.035905,
     "end_time": "2023-11-27T18:40:41.836503",
     "exception": false,
     "start_time": "2023-11-27T18:40:41.800598",
     "status": "completed"
    },
    "tags": []
   },
   "outputs": [
    {
     "data": {
      "text/html": [
       "<div>\n",
       "<style scoped>\n",
       "    .dataframe tbody tr th:only-of-type {\n",
       "        vertical-align: middle;\n",
       "    }\n",
       "\n",
       "    .dataframe tbody tr th {\n",
       "        vertical-align: top;\n",
       "    }\n",
       "\n",
       "    .dataframe thead th {\n",
       "        text-align: right;\n",
       "    }\n",
       "</style>\n",
       "<table border=\"1\" class=\"dataframe\">\n",
       "  <thead>\n",
       "    <tr style=\"text-align: right;\">\n",
       "      <th></th>\n",
       "      <th>AgeBand</th>\n",
       "      <th>smoking</th>\n",
       "    </tr>\n",
       "  </thead>\n",
       "  <tbody>\n",
       "    <tr>\n",
       "      <th>0</th>\n",
       "      <td>(19.935, 33.0]</td>\n",
       "      <td>0.551895</td>\n",
       "    </tr>\n",
       "    <tr>\n",
       "      <th>1</th>\n",
       "      <td>(33.0, 46.0]</td>\n",
       "      <td>0.487106</td>\n",
       "    </tr>\n",
       "    <tr>\n",
       "      <th>2</th>\n",
       "      <td>(46.0, 59.0]</td>\n",
       "      <td>0.368621</td>\n",
       "    </tr>\n",
       "    <tr>\n",
       "      <th>3</th>\n",
       "      <td>(59.0, 72.0]</td>\n",
       "      <td>0.278552</td>\n",
       "    </tr>\n",
       "    <tr>\n",
       "      <th>4</th>\n",
       "      <td>(72.0, 85.0]</td>\n",
       "      <td>0.140049</td>\n",
       "    </tr>\n",
       "  </tbody>\n",
       "</table>\n",
       "</div>"
      ],
      "text/plain": [
       "          AgeBand   smoking\n",
       "0  (19.935, 33.0]  0.551895\n",
       "1    (33.0, 46.0]  0.487106\n",
       "2    (46.0, 59.0]  0.368621\n",
       "3    (59.0, 72.0]  0.278552\n",
       "4    (72.0, 85.0]  0.140049"
      ]
     },
     "execution_count": 8,
     "metadata": {},
     "output_type": "execute_result"
    }
   ],
   "source": [
    "train['AgeBand'] = pd.cut(train['age'], 5)\n",
    "train[['AgeBand', 'smoking']].groupby(['AgeBand'], as_index=False).mean().sort_values(by='AgeBand', ascending=True)"
   ]
  },
  {
   "cell_type": "code",
   "execution_count": 9,
   "id": "4175826a",
   "metadata": {
    "execution": {
     "iopub.execute_input": "2023-11-27T18:40:41.851154Z",
     "iopub.status.busy": "2023-11-27T18:40:41.850573Z",
     "iopub.status.idle": "2023-11-27T18:40:41.881899Z",
     "shell.execute_reply": "2023-11-27T18:40:41.881092Z"
    },
    "papermill": {
     "duration": 0.04058,
     "end_time": "2023-11-27T18:40:41.883806",
     "exception": false,
     "start_time": "2023-11-27T18:40:41.843226",
     "status": "completed"
    },
    "tags": []
   },
   "outputs": [
    {
     "data": {
      "text/html": [
       "<div>\n",
       "<style scoped>\n",
       "    .dataframe tbody tr th:only-of-type {\n",
       "        vertical-align: middle;\n",
       "    }\n",
       "\n",
       "    .dataframe tbody tr th {\n",
       "        vertical-align: top;\n",
       "    }\n",
       "\n",
       "    .dataframe thead th {\n",
       "        text-align: right;\n",
       "    }\n",
       "</style>\n",
       "<table border=\"1\" class=\"dataframe\">\n",
       "  <thead>\n",
       "    <tr style=\"text-align: right;\">\n",
       "      <th></th>\n",
       "      <th>age</th>\n",
       "      <th>height(cm)</th>\n",
       "      <th>weight(kg)</th>\n",
       "      <th>waist(cm)</th>\n",
       "      <th>eyesight(left)</th>\n",
       "      <th>eyesight(right)</th>\n",
       "      <th>systolic</th>\n",
       "      <th>relaxation</th>\n",
       "      <th>fasting blood sugar</th>\n",
       "      <th>Cholesterol</th>\n",
       "      <th>...</th>\n",
       "      <th>HDL</th>\n",
       "      <th>LDL</th>\n",
       "      <th>hemoglobin</th>\n",
       "      <th>Urine protein</th>\n",
       "      <th>serum creatinine</th>\n",
       "      <th>ALT</th>\n",
       "      <th>Gtp</th>\n",
       "      <th>dental caries</th>\n",
       "      <th>smoking</th>\n",
       "      <th>AgeBand</th>\n",
       "    </tr>\n",
       "  </thead>\n",
       "  <tbody>\n",
       "    <tr>\n",
       "      <th>0</th>\n",
       "      <td>2</td>\n",
       "      <td>165</td>\n",
       "      <td>60</td>\n",
       "      <td>81.0</td>\n",
       "      <td>0.5</td>\n",
       "      <td>0.6</td>\n",
       "      <td>135</td>\n",
       "      <td>87</td>\n",
       "      <td>94</td>\n",
       "      <td>172</td>\n",
       "      <td>...</td>\n",
       "      <td>40</td>\n",
       "      <td>75</td>\n",
       "      <td>16.5</td>\n",
       "      <td>1</td>\n",
       "      <td>1.0</td>\n",
       "      <td>25</td>\n",
       "      <td>27</td>\n",
       "      <td>0</td>\n",
       "      <td>1</td>\n",
       "      <td>(46.0, 59.0]</td>\n",
       "    </tr>\n",
       "    <tr>\n",
       "      <th>1</th>\n",
       "      <td>3</td>\n",
       "      <td>165</td>\n",
       "      <td>65</td>\n",
       "      <td>89.0</td>\n",
       "      <td>0.6</td>\n",
       "      <td>0.7</td>\n",
       "      <td>146</td>\n",
       "      <td>83</td>\n",
       "      <td>147</td>\n",
       "      <td>194</td>\n",
       "      <td>...</td>\n",
       "      <td>57</td>\n",
       "      <td>126</td>\n",
       "      <td>16.2</td>\n",
       "      <td>1</td>\n",
       "      <td>1.1</td>\n",
       "      <td>23</td>\n",
       "      <td>37</td>\n",
       "      <td>1</td>\n",
       "      <td>0</td>\n",
       "      <td>(59.0, 72.0]</td>\n",
       "    </tr>\n",
       "    <tr>\n",
       "      <th>2</th>\n",
       "      <td>0</td>\n",
       "      <td>170</td>\n",
       "      <td>75</td>\n",
       "      <td>81.0</td>\n",
       "      <td>0.4</td>\n",
       "      <td>0.5</td>\n",
       "      <td>118</td>\n",
       "      <td>75</td>\n",
       "      <td>79</td>\n",
       "      <td>178</td>\n",
       "      <td>...</td>\n",
       "      <td>45</td>\n",
       "      <td>93</td>\n",
       "      <td>17.4</td>\n",
       "      <td>1</td>\n",
       "      <td>0.8</td>\n",
       "      <td>31</td>\n",
       "      <td>53</td>\n",
       "      <td>0</td>\n",
       "      <td>1</td>\n",
       "      <td>(19.935, 33.0]</td>\n",
       "    </tr>\n",
       "    <tr>\n",
       "      <th>3</th>\n",
       "      <td>1</td>\n",
       "      <td>180</td>\n",
       "      <td>95</td>\n",
       "      <td>105.0</td>\n",
       "      <td>1.5</td>\n",
       "      <td>1.2</td>\n",
       "      <td>131</td>\n",
       "      <td>88</td>\n",
       "      <td>91</td>\n",
       "      <td>180</td>\n",
       "      <td>...</td>\n",
       "      <td>38</td>\n",
       "      <td>102</td>\n",
       "      <td>15.9</td>\n",
       "      <td>1</td>\n",
       "      <td>1.0</td>\n",
       "      <td>27</td>\n",
       "      <td>30</td>\n",
       "      <td>1</td>\n",
       "      <td>0</td>\n",
       "      <td>(33.0, 46.0]</td>\n",
       "    </tr>\n",
       "    <tr>\n",
       "      <th>4</th>\n",
       "      <td>0</td>\n",
       "      <td>165</td>\n",
       "      <td>60</td>\n",
       "      <td>80.5</td>\n",
       "      <td>1.5</td>\n",
       "      <td>1.0</td>\n",
       "      <td>121</td>\n",
       "      <td>76</td>\n",
       "      <td>91</td>\n",
       "      <td>155</td>\n",
       "      <td>...</td>\n",
       "      <td>44</td>\n",
       "      <td>93</td>\n",
       "      <td>15.4</td>\n",
       "      <td>1</td>\n",
       "      <td>0.8</td>\n",
       "      <td>13</td>\n",
       "      <td>17</td>\n",
       "      <td>0</td>\n",
       "      <td>1</td>\n",
       "      <td>(19.935, 33.0]</td>\n",
       "    </tr>\n",
       "  </tbody>\n",
       "</table>\n",
       "<p>5 rows × 21 columns</p>\n",
       "</div>"
      ],
      "text/plain": [
       "   age  height(cm)  weight(kg)  waist(cm)  eyesight(left)  eyesight(right)  \\\n",
       "0    2         165          60       81.0             0.5              0.6   \n",
       "1    3         165          65       89.0             0.6              0.7   \n",
       "2    0         170          75       81.0             0.4              0.5   \n",
       "3    1         180          95      105.0             1.5              1.2   \n",
       "4    0         165          60       80.5             1.5              1.0   \n",
       "\n",
       "   systolic  relaxation  fasting blood sugar  Cholesterol  ...  HDL  LDL  \\\n",
       "0       135          87                   94          172  ...   40   75   \n",
       "1       146          83                  147          194  ...   57  126   \n",
       "2       118          75                   79          178  ...   45   93   \n",
       "3       131          88                   91          180  ...   38  102   \n",
       "4       121          76                   91          155  ...   44   93   \n",
       "\n",
       "   hemoglobin  Urine protein  serum creatinine  ALT  Gtp  dental caries  \\\n",
       "0        16.5              1               1.0   25   27              0   \n",
       "1        16.2              1               1.1   23   37              1   \n",
       "2        17.4              1               0.8   31   53              0   \n",
       "3        15.9              1               1.0   27   30              1   \n",
       "4        15.4              1               0.8   13   17              0   \n",
       "\n",
       "   smoking         AgeBand  \n",
       "0        1    (46.0, 59.0]  \n",
       "1        0    (59.0, 72.0]  \n",
       "2        1  (19.935, 33.0]  \n",
       "3        0    (33.0, 46.0]  \n",
       "4        1  (19.935, 33.0]  \n",
       "\n",
       "[5 rows x 21 columns]"
      ]
     },
     "execution_count": 9,
     "metadata": {},
     "output_type": "execute_result"
    }
   ],
   "source": [
    "for dataset in combine_df:\n",
    "    dataset.loc[(dataset[\"age\"]>19) & (dataset[\"age\"]<=33),\"age\"] = 0\n",
    "    dataset.loc[(dataset[\"age\"]>33) & (dataset[\"age\"]<=46),\"age\"] = 1\n",
    "    dataset.loc[(dataset[\"age\"]>46) & (dataset[\"age\"]<=59),\"age\"] = 2\n",
    "    dataset.loc[(dataset[\"age\"]>59) & (dataset[\"age\"]<=72),\"age\"] = 3\n",
    "    dataset.loc[dataset[\"age\"]>72,\"age\"] = 4\n",
    "train.head()"
   ]
  },
  {
   "cell_type": "code",
   "execution_count": 10,
   "id": "9cdec0d5",
   "metadata": {
    "execution": {
     "iopub.execute_input": "2023-11-27T18:40:41.900009Z",
     "iopub.status.busy": "2023-11-27T18:40:41.899380Z",
     "iopub.status.idle": "2023-11-27T18:40:41.911543Z",
     "shell.execute_reply": "2023-11-27T18:40:41.910508Z"
    },
    "papermill": {
     "duration": 0.023008,
     "end_time": "2023-11-27T18:40:41.914105",
     "exception": false,
     "start_time": "2023-11-27T18:40:41.891097",
     "status": "completed"
    },
    "tags": []
   },
   "outputs": [],
   "source": [
    "train = train.drop(\"AgeBand\",axis=1)\n",
    "combine_df=[train,test]"
   ]
  },
  {
   "cell_type": "markdown",
   "id": "784a6fdc",
   "metadata": {
    "papermill": {
     "duration": 0.006818,
     "end_time": "2023-11-27T18:40:41.928670",
     "exception": false,
     "start_time": "2023-11-27T18:40:41.921852",
     "status": "completed"
    },
    "tags": []
   },
   "source": [
    "Create a BMI variable"
   ]
  },
  {
   "cell_type": "code",
   "execution_count": 11,
   "id": "71f3efb5",
   "metadata": {
    "execution": {
     "iopub.execute_input": "2023-11-27T18:40:41.945351Z",
     "iopub.status.busy": "2023-11-27T18:40:41.944619Z",
     "iopub.status.idle": "2023-11-27T18:40:41.951596Z",
     "shell.execute_reply": "2023-11-27T18:40:41.950964Z"
    },
    "papermill": {
     "duration": 0.017669,
     "end_time": "2023-11-27T18:40:41.953308",
     "exception": false,
     "start_time": "2023-11-27T18:40:41.935639",
     "status": "completed"
    },
    "tags": []
   },
   "outputs": [],
   "source": [
    "for dataset in combine_df:\n",
    "    dataset[\"BMI\"] = dataset[\"weight(kg)\"] / (dataset[\"height(cm)\"] * 0.01)\n",
    "    "
   ]
  },
  {
   "cell_type": "code",
   "execution_count": 12,
   "id": "3126ecc8",
   "metadata": {
    "execution": {
     "iopub.execute_input": "2023-11-27T18:40:41.969226Z",
     "iopub.status.busy": "2023-11-27T18:40:41.968703Z",
     "iopub.status.idle": "2023-11-27T18:40:41.996812Z",
     "shell.execute_reply": "2023-11-27T18:40:41.995981Z"
    },
    "papermill": {
     "duration": 0.038021,
     "end_time": "2023-11-27T18:40:41.998637",
     "exception": false,
     "start_time": "2023-11-27T18:40:41.960616",
     "status": "completed"
    },
    "tags": []
   },
   "outputs": [
    {
     "data": {
      "text/html": [
       "<div>\n",
       "<style scoped>\n",
       "    .dataframe tbody tr th:only-of-type {\n",
       "        vertical-align: middle;\n",
       "    }\n",
       "\n",
       "    .dataframe tbody tr th {\n",
       "        vertical-align: top;\n",
       "    }\n",
       "\n",
       "    .dataframe thead th {\n",
       "        text-align: right;\n",
       "    }\n",
       "</style>\n",
       "<table border=\"1\" class=\"dataframe\">\n",
       "  <thead>\n",
       "    <tr style=\"text-align: right;\">\n",
       "      <th></th>\n",
       "      <th>age</th>\n",
       "      <th>waist(cm)</th>\n",
       "      <th>eyesight(left)</th>\n",
       "      <th>eyesight(right)</th>\n",
       "      <th>systolic</th>\n",
       "      <th>relaxation</th>\n",
       "      <th>fasting blood sugar</th>\n",
       "      <th>Cholesterol</th>\n",
       "      <th>triglyceride</th>\n",
       "      <th>HDL</th>\n",
       "      <th>LDL</th>\n",
       "      <th>hemoglobin</th>\n",
       "      <th>Urine protein</th>\n",
       "      <th>serum creatinine</th>\n",
       "      <th>ALT</th>\n",
       "      <th>Gtp</th>\n",
       "      <th>dental caries</th>\n",
       "      <th>smoking</th>\n",
       "      <th>BMI</th>\n",
       "    </tr>\n",
       "  </thead>\n",
       "  <tbody>\n",
       "    <tr>\n",
       "      <th>0</th>\n",
       "      <td>2</td>\n",
       "      <td>81.0</td>\n",
       "      <td>0.5</td>\n",
       "      <td>0.6</td>\n",
       "      <td>135</td>\n",
       "      <td>87</td>\n",
       "      <td>94</td>\n",
       "      <td>172</td>\n",
       "      <td>300</td>\n",
       "      <td>40</td>\n",
       "      <td>75</td>\n",
       "      <td>16.5</td>\n",
       "      <td>1</td>\n",
       "      <td>1.0</td>\n",
       "      <td>25</td>\n",
       "      <td>27</td>\n",
       "      <td>0</td>\n",
       "      <td>1</td>\n",
       "      <td>36.363636</td>\n",
       "    </tr>\n",
       "    <tr>\n",
       "      <th>1</th>\n",
       "      <td>3</td>\n",
       "      <td>89.0</td>\n",
       "      <td>0.6</td>\n",
       "      <td>0.7</td>\n",
       "      <td>146</td>\n",
       "      <td>83</td>\n",
       "      <td>147</td>\n",
       "      <td>194</td>\n",
       "      <td>55</td>\n",
       "      <td>57</td>\n",
       "      <td>126</td>\n",
       "      <td>16.2</td>\n",
       "      <td>1</td>\n",
       "      <td>1.1</td>\n",
       "      <td>23</td>\n",
       "      <td>37</td>\n",
       "      <td>1</td>\n",
       "      <td>0</td>\n",
       "      <td>39.393939</td>\n",
       "    </tr>\n",
       "    <tr>\n",
       "      <th>2</th>\n",
       "      <td>0</td>\n",
       "      <td>81.0</td>\n",
       "      <td>0.4</td>\n",
       "      <td>0.5</td>\n",
       "      <td>118</td>\n",
       "      <td>75</td>\n",
       "      <td>79</td>\n",
       "      <td>178</td>\n",
       "      <td>197</td>\n",
       "      <td>45</td>\n",
       "      <td>93</td>\n",
       "      <td>17.4</td>\n",
       "      <td>1</td>\n",
       "      <td>0.8</td>\n",
       "      <td>31</td>\n",
       "      <td>53</td>\n",
       "      <td>0</td>\n",
       "      <td>1</td>\n",
       "      <td>44.117647</td>\n",
       "    </tr>\n",
       "    <tr>\n",
       "      <th>3</th>\n",
       "      <td>1</td>\n",
       "      <td>105.0</td>\n",
       "      <td>1.5</td>\n",
       "      <td>1.2</td>\n",
       "      <td>131</td>\n",
       "      <td>88</td>\n",
       "      <td>91</td>\n",
       "      <td>180</td>\n",
       "      <td>203</td>\n",
       "      <td>38</td>\n",
       "      <td>102</td>\n",
       "      <td>15.9</td>\n",
       "      <td>1</td>\n",
       "      <td>1.0</td>\n",
       "      <td>27</td>\n",
       "      <td>30</td>\n",
       "      <td>1</td>\n",
       "      <td>0</td>\n",
       "      <td>52.777778</td>\n",
       "    </tr>\n",
       "    <tr>\n",
       "      <th>4</th>\n",
       "      <td>0</td>\n",
       "      <td>80.5</td>\n",
       "      <td>1.5</td>\n",
       "      <td>1.0</td>\n",
       "      <td>121</td>\n",
       "      <td>76</td>\n",
       "      <td>91</td>\n",
       "      <td>155</td>\n",
       "      <td>87</td>\n",
       "      <td>44</td>\n",
       "      <td>93</td>\n",
       "      <td>15.4</td>\n",
       "      <td>1</td>\n",
       "      <td>0.8</td>\n",
       "      <td>13</td>\n",
       "      <td>17</td>\n",
       "      <td>0</td>\n",
       "      <td>1</td>\n",
       "      <td>36.363636</td>\n",
       "    </tr>\n",
       "  </tbody>\n",
       "</table>\n",
       "</div>"
      ],
      "text/plain": [
       "   age  waist(cm)  eyesight(left)  eyesight(right)  systolic  relaxation  \\\n",
       "0    2       81.0             0.5              0.6       135          87   \n",
       "1    3       89.0             0.6              0.7       146          83   \n",
       "2    0       81.0             0.4              0.5       118          75   \n",
       "3    1      105.0             1.5              1.2       131          88   \n",
       "4    0       80.5             1.5              1.0       121          76   \n",
       "\n",
       "   fasting blood sugar  Cholesterol  triglyceride  HDL  LDL  hemoglobin  \\\n",
       "0                   94          172           300   40   75        16.5   \n",
       "1                  147          194            55   57  126        16.2   \n",
       "2                   79          178           197   45   93        17.4   \n",
       "3                   91          180           203   38  102        15.9   \n",
       "4                   91          155            87   44   93        15.4   \n",
       "\n",
       "   Urine protein  serum creatinine  ALT  Gtp  dental caries  smoking  \\\n",
       "0              1               1.0   25   27              0        1   \n",
       "1              1               1.1   23   37              1        0   \n",
       "2              1               0.8   31   53              0        1   \n",
       "3              1               1.0   27   30              1        0   \n",
       "4              1               0.8   13   17              0        1   \n",
       "\n",
       "         BMI  \n",
       "0  36.363636  \n",
       "1  39.393939  \n",
       "2  44.117647  \n",
       "3  52.777778  \n",
       "4  36.363636  "
      ]
     },
     "execution_count": 12,
     "metadata": {},
     "output_type": "execute_result"
    }
   ],
   "source": [
    "train = train.drop([\"weight(kg)\",\"height(cm)\"],axis=1)\n",
    "test = test.drop([\"weight(kg)\",\"height(cm)\"],axis=1)\n",
    "train.head()"
   ]
  },
  {
   "cell_type": "code",
   "execution_count": 13,
   "id": "99f504be",
   "metadata": {
    "execution": {
     "iopub.execute_input": "2023-11-27T18:40:42.015889Z",
     "iopub.status.busy": "2023-11-27T18:40:42.015448Z",
     "iopub.status.idle": "2023-11-27T18:40:42.023193Z",
     "shell.execute_reply": "2023-11-27T18:40:42.022437Z"
    },
    "papermill": {
     "duration": 0.01855,
     "end_time": "2023-11-27T18:40:42.024966",
     "exception": false,
     "start_time": "2023-11-27T18:40:42.006416",
     "status": "completed"
    },
    "tags": []
   },
   "outputs": [],
   "source": [
    "for dataset in combine_df:\n",
    "    dataset[\"eyesight\"] = dataset[\"eyesight(left)\"] + dataset[\"eyesight(right)\"]   "
   ]
  },
  {
   "cell_type": "code",
   "execution_count": 14,
   "id": "36896cef",
   "metadata": {
    "execution": {
     "iopub.execute_input": "2023-11-27T18:40:42.041850Z",
     "iopub.status.busy": "2023-11-27T18:40:42.041517Z",
     "iopub.status.idle": "2023-11-27T18:40:42.069176Z",
     "shell.execute_reply": "2023-11-27T18:40:42.068271Z"
    },
    "papermill": {
     "duration": 0.037932,
     "end_time": "2023-11-27T18:40:42.070753",
     "exception": false,
     "start_time": "2023-11-27T18:40:42.032821",
     "status": "completed"
    },
    "tags": []
   },
   "outputs": [
    {
     "data": {
      "text/html": [
       "<div>\n",
       "<style scoped>\n",
       "    .dataframe tbody tr th:only-of-type {\n",
       "        vertical-align: middle;\n",
       "    }\n",
       "\n",
       "    .dataframe tbody tr th {\n",
       "        vertical-align: top;\n",
       "    }\n",
       "\n",
       "    .dataframe thead th {\n",
       "        text-align: right;\n",
       "    }\n",
       "</style>\n",
       "<table border=\"1\" class=\"dataframe\">\n",
       "  <thead>\n",
       "    <tr style=\"text-align: right;\">\n",
       "      <th></th>\n",
       "      <th>age</th>\n",
       "      <th>waist(cm)</th>\n",
       "      <th>systolic</th>\n",
       "      <th>relaxation</th>\n",
       "      <th>fasting blood sugar</th>\n",
       "      <th>Cholesterol</th>\n",
       "      <th>triglyceride</th>\n",
       "      <th>HDL</th>\n",
       "      <th>LDL</th>\n",
       "      <th>hemoglobin</th>\n",
       "      <th>Urine protein</th>\n",
       "      <th>serum creatinine</th>\n",
       "      <th>ALT</th>\n",
       "      <th>Gtp</th>\n",
       "      <th>dental caries</th>\n",
       "      <th>smoking</th>\n",
       "      <th>BMI</th>\n",
       "    </tr>\n",
       "  </thead>\n",
       "  <tbody>\n",
       "    <tr>\n",
       "      <th>0</th>\n",
       "      <td>2</td>\n",
       "      <td>81.0</td>\n",
       "      <td>135</td>\n",
       "      <td>87</td>\n",
       "      <td>94</td>\n",
       "      <td>172</td>\n",
       "      <td>300</td>\n",
       "      <td>40</td>\n",
       "      <td>75</td>\n",
       "      <td>16.5</td>\n",
       "      <td>1</td>\n",
       "      <td>1.0</td>\n",
       "      <td>25</td>\n",
       "      <td>27</td>\n",
       "      <td>0</td>\n",
       "      <td>1</td>\n",
       "      <td>36.363636</td>\n",
       "    </tr>\n",
       "    <tr>\n",
       "      <th>1</th>\n",
       "      <td>3</td>\n",
       "      <td>89.0</td>\n",
       "      <td>146</td>\n",
       "      <td>83</td>\n",
       "      <td>147</td>\n",
       "      <td>194</td>\n",
       "      <td>55</td>\n",
       "      <td>57</td>\n",
       "      <td>126</td>\n",
       "      <td>16.2</td>\n",
       "      <td>1</td>\n",
       "      <td>1.1</td>\n",
       "      <td>23</td>\n",
       "      <td>37</td>\n",
       "      <td>1</td>\n",
       "      <td>0</td>\n",
       "      <td>39.393939</td>\n",
       "    </tr>\n",
       "    <tr>\n",
       "      <th>2</th>\n",
       "      <td>0</td>\n",
       "      <td>81.0</td>\n",
       "      <td>118</td>\n",
       "      <td>75</td>\n",
       "      <td>79</td>\n",
       "      <td>178</td>\n",
       "      <td>197</td>\n",
       "      <td>45</td>\n",
       "      <td>93</td>\n",
       "      <td>17.4</td>\n",
       "      <td>1</td>\n",
       "      <td>0.8</td>\n",
       "      <td>31</td>\n",
       "      <td>53</td>\n",
       "      <td>0</td>\n",
       "      <td>1</td>\n",
       "      <td>44.117647</td>\n",
       "    </tr>\n",
       "    <tr>\n",
       "      <th>3</th>\n",
       "      <td>1</td>\n",
       "      <td>105.0</td>\n",
       "      <td>131</td>\n",
       "      <td>88</td>\n",
       "      <td>91</td>\n",
       "      <td>180</td>\n",
       "      <td>203</td>\n",
       "      <td>38</td>\n",
       "      <td>102</td>\n",
       "      <td>15.9</td>\n",
       "      <td>1</td>\n",
       "      <td>1.0</td>\n",
       "      <td>27</td>\n",
       "      <td>30</td>\n",
       "      <td>1</td>\n",
       "      <td>0</td>\n",
       "      <td>52.777778</td>\n",
       "    </tr>\n",
       "    <tr>\n",
       "      <th>4</th>\n",
       "      <td>0</td>\n",
       "      <td>80.5</td>\n",
       "      <td>121</td>\n",
       "      <td>76</td>\n",
       "      <td>91</td>\n",
       "      <td>155</td>\n",
       "      <td>87</td>\n",
       "      <td>44</td>\n",
       "      <td>93</td>\n",
       "      <td>15.4</td>\n",
       "      <td>1</td>\n",
       "      <td>0.8</td>\n",
       "      <td>13</td>\n",
       "      <td>17</td>\n",
       "      <td>0</td>\n",
       "      <td>1</td>\n",
       "      <td>36.363636</td>\n",
       "    </tr>\n",
       "  </tbody>\n",
       "</table>\n",
       "</div>"
      ],
      "text/plain": [
       "   age  waist(cm)  systolic  relaxation  fasting blood sugar  Cholesterol  \\\n",
       "0    2       81.0       135          87                   94          172   \n",
       "1    3       89.0       146          83                  147          194   \n",
       "2    0       81.0       118          75                   79          178   \n",
       "3    1      105.0       131          88                   91          180   \n",
       "4    0       80.5       121          76                   91          155   \n",
       "\n",
       "   triglyceride  HDL  LDL  hemoglobin  Urine protein  serum creatinine  ALT  \\\n",
       "0           300   40   75        16.5              1               1.0   25   \n",
       "1            55   57  126        16.2              1               1.1   23   \n",
       "2           197   45   93        17.4              1               0.8   31   \n",
       "3           203   38  102        15.9              1               1.0   27   \n",
       "4            87   44   93        15.4              1               0.8   13   \n",
       "\n",
       "   Gtp  dental caries  smoking        BMI  \n",
       "0   27              0        1  36.363636  \n",
       "1   37              1        0  39.393939  \n",
       "2   53              0        1  44.117647  \n",
       "3   30              1        0  52.777778  \n",
       "4   17              0        1  36.363636  "
      ]
     },
     "execution_count": 14,
     "metadata": {},
     "output_type": "execute_result"
    }
   ],
   "source": [
    "train = train.drop([\"eyesight(left)\",\"eyesight(right)\"],axis=1)\n",
    "test = test.drop([\"eyesight(left)\",\"eyesight(right)\"],axis=1)\n",
    "train.head()"
   ]
  },
  {
   "cell_type": "markdown",
   "id": "5485470b",
   "metadata": {
    "papermill": {
     "duration": 0.007051,
     "end_time": "2023-11-27T18:40:42.085420",
     "exception": false,
     "start_time": "2023-11-27T18:40:42.078369",
     "status": "completed"
    },
    "tags": []
   },
   "source": [
    "### Model Training"
   ]
  },
  {
   "cell_type": "code",
   "execution_count": 15,
   "id": "f20c10d7",
   "metadata": {
    "execution": {
     "iopub.execute_input": "2023-11-27T18:40:42.103021Z",
     "iopub.status.busy": "2023-11-27T18:40:42.102001Z",
     "iopub.status.idle": "2023-11-27T18:40:42.111501Z",
     "shell.execute_reply": "2023-11-27T18:40:42.110798Z"
    },
    "papermill": {
     "duration": 0.020375,
     "end_time": "2023-11-27T18:40:42.113318",
     "exception": false,
     "start_time": "2023-11-27T18:40:42.092943",
     "status": "completed"
    },
    "tags": []
   },
   "outputs": [],
   "source": [
    "X = train.drop(\"smoking\",axis=1)\n",
    "y = train[\"smoking\"]"
   ]
  },
  {
   "cell_type": "code",
   "execution_count": 16,
   "id": "a4f6019c",
   "metadata": {
    "execution": {
     "iopub.execute_input": "2023-11-27T18:40:42.129828Z",
     "iopub.status.busy": "2023-11-27T18:40:42.129335Z",
     "iopub.status.idle": "2023-11-27T18:40:42.173586Z",
     "shell.execute_reply": "2023-11-27T18:40:42.172626Z"
    },
    "papermill": {
     "duration": 0.054912,
     "end_time": "2023-11-27T18:40:42.175883",
     "exception": false,
     "start_time": "2023-11-27T18:40:42.120971",
     "status": "completed"
    },
    "tags": []
   },
   "outputs": [],
   "source": [
    "from sklearn.model_selection import train_test_split\n",
    "X_train, X_test, y_train, y_test = train_test_split(X,y,test_size=0.3,random_state=42)"
   ]
  },
  {
   "cell_type": "code",
   "execution_count": 17,
   "id": "d086338c",
   "metadata": {
    "execution": {
     "iopub.execute_input": "2023-11-27T18:40:42.192359Z",
     "iopub.status.busy": "2023-11-27T18:40:42.191996Z",
     "iopub.status.idle": "2023-11-27T18:40:42.196325Z",
     "shell.execute_reply": "2023-11-27T18:40:42.195501Z"
    },
    "papermill": {
     "duration": 0.014204,
     "end_time": "2023-11-27T18:40:42.197855",
     "exception": false,
     "start_time": "2023-11-27T18:40:42.183651",
     "status": "completed"
    },
    "tags": []
   },
   "outputs": [],
   "source": [
    "from sklearn.metrics import accuracy_score"
   ]
  },
  {
   "cell_type": "code",
   "execution_count": 18,
   "id": "b76a71c6",
   "metadata": {
    "execution": {
     "iopub.execute_input": "2023-11-27T18:40:42.214050Z",
     "iopub.status.busy": "2023-11-27T18:40:42.213387Z",
     "iopub.status.idle": "2023-11-27T18:40:43.210226Z",
     "shell.execute_reply": "2023-11-27T18:40:43.209506Z"
    },
    "papermill": {
     "duration": 1.008578,
     "end_time": "2023-11-27T18:40:43.213958",
     "exception": false,
     "start_time": "2023-11-27T18:40:42.205380",
     "status": "completed"
    },
    "tags": []
   },
   "outputs": [
    {
     "name": "stdout",
     "output_type": "stream",
     "text": [
      "Accuracy: 0.731\n"
     ]
    },
    {
     "name": "stderr",
     "output_type": "stream",
     "text": [
      "/opt/conda/lib/python3.10/site-packages/sklearn/linear_model/_logistic.py:458: ConvergenceWarning: lbfgs failed to converge (status=1):\n",
      "STOP: TOTAL NO. of ITERATIONS REACHED LIMIT.\n",
      "\n",
      "Increase the number of iterations (max_iter) or scale the data as shown in:\n",
      "    https://scikit-learn.org/stable/modules/preprocessing.html\n",
      "Please also refer to the documentation for alternative solver options:\n",
      "    https://scikit-learn.org/stable/modules/linear_model.html#logistic-regression\n",
      "  n_iter_i = _check_optimize_result(\n"
     ]
    }
   ],
   "source": [
    "logreg = LogisticRegression()\n",
    "logreg.fit(X_train,y_train)\n",
    "yhat = logreg.predict(X_test)\n",
    "# evaluate predictions\n",
    "acc = accuracy_score(y_test, yhat)\n",
    "print('Accuracy: %.3f' % acc)"
   ]
  },
  {
   "cell_type": "code",
   "execution_count": 19,
   "id": "2e10adc1",
   "metadata": {
    "execution": {
     "iopub.execute_input": "2023-11-27T18:40:43.235856Z",
     "iopub.status.busy": "2023-11-27T18:40:43.235489Z",
     "iopub.status.idle": "2023-11-27T18:40:43.266515Z",
     "shell.execute_reply": "2023-11-27T18:40:43.265770Z"
    },
    "papermill": {
     "duration": 0.044108,
     "end_time": "2023-11-27T18:40:43.268545",
     "exception": false,
     "start_time": "2023-11-27T18:40:43.224437",
     "status": "completed"
    },
    "tags": []
   },
   "outputs": [
    {
     "data": {
      "text/html": [
       "<style>#sk-container-id-1 {color: black;background-color: white;}#sk-container-id-1 pre{padding: 0;}#sk-container-id-1 div.sk-toggleable {background-color: white;}#sk-container-id-1 label.sk-toggleable__label {cursor: pointer;display: block;width: 100%;margin-bottom: 0;padding: 0.3em;box-sizing: border-box;text-align: center;}#sk-container-id-1 label.sk-toggleable__label-arrow:before {content: \"▸\";float: left;margin-right: 0.25em;color: #696969;}#sk-container-id-1 label.sk-toggleable__label-arrow:hover:before {color: black;}#sk-container-id-1 div.sk-estimator:hover label.sk-toggleable__label-arrow:before {color: black;}#sk-container-id-1 div.sk-toggleable__content {max-height: 0;max-width: 0;overflow: hidden;text-align: left;background-color: #f0f8ff;}#sk-container-id-1 div.sk-toggleable__content pre {margin: 0.2em;color: black;border-radius: 0.25em;background-color: #f0f8ff;}#sk-container-id-1 input.sk-toggleable__control:checked~div.sk-toggleable__content {max-height: 200px;max-width: 100%;overflow: auto;}#sk-container-id-1 input.sk-toggleable__control:checked~label.sk-toggleable__label-arrow:before {content: \"▾\";}#sk-container-id-1 div.sk-estimator input.sk-toggleable__control:checked~label.sk-toggleable__label {background-color: #d4ebff;}#sk-container-id-1 div.sk-label input.sk-toggleable__control:checked~label.sk-toggleable__label {background-color: #d4ebff;}#sk-container-id-1 input.sk-hidden--visually {border: 0;clip: rect(1px 1px 1px 1px);clip: rect(1px, 1px, 1px, 1px);height: 1px;margin: -1px;overflow: hidden;padding: 0;position: absolute;width: 1px;}#sk-container-id-1 div.sk-estimator {font-family: monospace;background-color: #f0f8ff;border: 1px dotted black;border-radius: 0.25em;box-sizing: border-box;margin-bottom: 0.5em;}#sk-container-id-1 div.sk-estimator:hover {background-color: #d4ebff;}#sk-container-id-1 div.sk-parallel-item::after {content: \"\";width: 100%;border-bottom: 1px solid gray;flex-grow: 1;}#sk-container-id-1 div.sk-label:hover label.sk-toggleable__label {background-color: #d4ebff;}#sk-container-id-1 div.sk-serial::before {content: \"\";position: absolute;border-left: 1px solid gray;box-sizing: border-box;top: 0;bottom: 0;left: 50%;z-index: 0;}#sk-container-id-1 div.sk-serial {display: flex;flex-direction: column;align-items: center;background-color: white;padding-right: 0.2em;padding-left: 0.2em;position: relative;}#sk-container-id-1 div.sk-item {position: relative;z-index: 1;}#sk-container-id-1 div.sk-parallel {display: flex;align-items: stretch;justify-content: center;background-color: white;position: relative;}#sk-container-id-1 div.sk-item::before, #sk-container-id-1 div.sk-parallel-item::before {content: \"\";position: absolute;border-left: 1px solid gray;box-sizing: border-box;top: 0;bottom: 0;left: 50%;z-index: -1;}#sk-container-id-1 div.sk-parallel-item {display: flex;flex-direction: column;z-index: 1;position: relative;background-color: white;}#sk-container-id-1 div.sk-parallel-item:first-child::after {align-self: flex-end;width: 50%;}#sk-container-id-1 div.sk-parallel-item:last-child::after {align-self: flex-start;width: 50%;}#sk-container-id-1 div.sk-parallel-item:only-child::after {width: 0;}#sk-container-id-1 div.sk-dashed-wrapped {border: 1px dashed gray;margin: 0 0.4em 0.5em 0.4em;box-sizing: border-box;padding-bottom: 0.4em;background-color: white;}#sk-container-id-1 div.sk-label label {font-family: monospace;font-weight: bold;display: inline-block;line-height: 1.2em;}#sk-container-id-1 div.sk-label-container {text-align: center;}#sk-container-id-1 div.sk-container {/* jupyter's `normalize.less` sets `[hidden] { display: none; }` but bootstrap.min.css set `[hidden] { display: none !important; }` so we also need the `!important` here to be able to override the default hidden behavior on the sphinx rendered scikit-learn.org. See: https://github.com/scikit-learn/scikit-learn/issues/21755 */display: inline-block !important;position: relative;}#sk-container-id-1 div.sk-text-repr-fallback {display: none;}</style><div id=\"sk-container-id-1\" class=\"sk-top-container\"><div class=\"sk-text-repr-fallback\"><pre>KNeighborsClassifier(n_neighbors=3)</pre><b>In a Jupyter environment, please rerun this cell to show the HTML representation or trust the notebook. <br />On GitHub, the HTML representation is unable to render, please try loading this page with nbviewer.org.</b></div><div class=\"sk-container\" hidden><div class=\"sk-item\"><div class=\"sk-estimator sk-toggleable\"><input class=\"sk-toggleable__control sk-hidden--visually\" id=\"sk-estimator-id-1\" type=\"checkbox\" checked><label for=\"sk-estimator-id-1\" class=\"sk-toggleable__label sk-toggleable__label-arrow\">KNeighborsClassifier</label><div class=\"sk-toggleable__content\"><pre>KNeighborsClassifier(n_neighbors=3)</pre></div></div></div></div></div>"
      ],
      "text/plain": [
       "KNeighborsClassifier(n_neighbors=3)"
      ]
     },
     "execution_count": 19,
     "metadata": {},
     "output_type": "execute_result"
    }
   ],
   "source": [
    "knn = KNeighborsClassifier(n_neighbors=3)\n",
    "knn.fit(X_train,y_train)"
   ]
  },
  {
   "cell_type": "code",
   "execution_count": 20,
   "id": "1dfaf54a",
   "metadata": {
    "execution": {
     "iopub.execute_input": "2023-11-27T18:40:43.291124Z",
     "iopub.status.busy": "2023-11-27T18:40:43.290711Z",
     "iopub.status.idle": "2023-11-27T18:40:52.757722Z",
     "shell.execute_reply": "2023-11-27T18:40:52.756742Z"
    },
    "papermill": {
     "duration": 9.480263,
     "end_time": "2023-11-27T18:40:52.759534",
     "exception": false,
     "start_time": "2023-11-27T18:40:43.279271",
     "status": "completed"
    },
    "tags": []
   },
   "outputs": [
    {
     "name": "stdout",
     "output_type": "stream",
     "text": [
      "Accuracy: 0.669\n"
     ]
    }
   ],
   "source": [
    "yhat = knn.predict(X_test)\n",
    "acc = accuracy_score(y_test,yhat)\n",
    "print('Accuracy: %.3f' % acc)"
   ]
  },
  {
   "cell_type": "code",
   "execution_count": 21,
   "id": "5b44ce43",
   "metadata": {
    "execution": {
     "iopub.execute_input": "2023-11-27T18:40:52.777081Z",
     "iopub.status.busy": "2023-11-27T18:40:52.776729Z",
     "iopub.status.idle": "2023-11-27T18:40:54.606672Z",
     "shell.execute_reply": "2023-11-27T18:40:54.605574Z"
    },
    "papermill": {
     "duration": 1.840648,
     "end_time": "2023-11-27T18:40:54.608641",
     "exception": false,
     "start_time": "2023-11-27T18:40:52.767993",
     "status": "completed"
    },
    "tags": []
   },
   "outputs": [
    {
     "name": "stdout",
     "output_type": "stream",
     "text": [
      "Accuracy: 0.678\n"
     ]
    }
   ],
   "source": [
    "decision_tree = DecisionTreeClassifier()\n",
    "decision_tree.fit(X_train, y_train)\n",
    "yhat = decision_tree.predict(X_test)\n",
    "acc = accuracy_score(y_test,yhat)\n",
    "print('Accuracy: %.3f' % acc)"
   ]
  },
  {
   "cell_type": "code",
   "execution_count": 22,
   "id": "d965b2d8",
   "metadata": {
    "execution": {
     "iopub.execute_input": "2023-11-27T18:40:54.626934Z",
     "iopub.status.busy": "2023-11-27T18:40:54.626333Z",
     "iopub.status.idle": "2023-11-27T18:41:29.445512Z",
     "shell.execute_reply": "2023-11-27T18:41:29.444632Z"
    },
    "papermill": {
     "duration": 34.838752,
     "end_time": "2023-11-27T18:41:29.455666",
     "exception": false,
     "start_time": "2023-11-27T18:40:54.616914",
     "status": "completed"
    },
    "tags": []
   },
   "outputs": [
    {
     "name": "stdout",
     "output_type": "stream",
     "text": [
      "Accuracy: 0.764\n"
     ]
    }
   ],
   "source": [
    "random_forest = RandomForestClassifier(n_estimators=100)\n",
    "random_forest.fit(X_train, y_train)\n",
    "yhat = random_forest.predict(X_test)\n",
    "acc = accuracy_score(y_test,yhat)\n",
    "print('Accuracy: %.3f' % acc)"
   ]
  },
  {
   "cell_type": "code",
   "execution_count": 23,
   "id": "f18d691f",
   "metadata": {
    "execution": {
     "iopub.execute_input": "2023-11-27T18:41:29.472989Z",
     "iopub.status.busy": "2023-11-27T18:41:29.472610Z",
     "iopub.status.idle": "2023-11-27T18:41:30.344952Z",
     "shell.execute_reply": "2023-11-27T18:41:30.344087Z"
    },
    "papermill": {
     "duration": 0.883076,
     "end_time": "2023-11-27T18:41:30.346674",
     "exception": false,
     "start_time": "2023-11-27T18:41:29.463598",
     "status": "completed"
    },
    "tags": []
   },
   "outputs": [
    {
     "name": "stdout",
     "output_type": "stream",
     "text": [
      "Accuracy: 0.773\n"
     ]
    }
   ],
   "source": [
    "xgboost = XGBClassifier()\n",
    "xgboost.fit(X_train,y_train)\n",
    "yhat = xgboost.predict(X_test)\n",
    "acc = accuracy_score(y_test,yhat)\n",
    "print('Accuracy: %.3f' % acc)"
   ]
  },
  {
   "cell_type": "code",
   "execution_count": 24,
   "id": "ef3e3b10",
   "metadata": {
    "execution": {
     "iopub.execute_input": "2023-11-27T18:41:30.365565Z",
     "iopub.status.busy": "2023-11-27T18:41:30.364757Z",
     "iopub.status.idle": "2023-11-27T18:41:30.379083Z",
     "shell.execute_reply": "2023-11-27T18:41:30.378185Z"
    },
    "papermill": {
     "duration": 0.025992,
     "end_time": "2023-11-27T18:41:30.380917",
     "exception": false,
     "start_time": "2023-11-27T18:41:30.354925",
     "status": "completed"
    },
    "tags": []
   },
   "outputs": [
    {
     "data": {
      "text/html": [
       "<div>\n",
       "<style scoped>\n",
       "    .dataframe tbody tr th:only-of-type {\n",
       "        vertical-align: middle;\n",
       "    }\n",
       "\n",
       "    .dataframe tbody tr th {\n",
       "        vertical-align: top;\n",
       "    }\n",
       "\n",
       "    .dataframe thead th {\n",
       "        text-align: right;\n",
       "    }\n",
       "</style>\n",
       "<table border=\"1\" class=\"dataframe\">\n",
       "  <thead>\n",
       "    <tr style=\"text-align: right;\">\n",
       "      <th></th>\n",
       "      <th>id</th>\n",
       "      <th>age</th>\n",
       "      <th>waist(cm)</th>\n",
       "      <th>systolic</th>\n",
       "      <th>relaxation</th>\n",
       "      <th>fasting blood sugar</th>\n",
       "      <th>Cholesterol</th>\n",
       "      <th>triglyceride</th>\n",
       "      <th>HDL</th>\n",
       "      <th>LDL</th>\n",
       "      <th>hemoglobin</th>\n",
       "      <th>Urine protein</th>\n",
       "      <th>serum creatinine</th>\n",
       "      <th>ALT</th>\n",
       "      <th>Gtp</th>\n",
       "      <th>dental caries</th>\n",
       "      <th>BMI</th>\n",
       "    </tr>\n",
       "  </thead>\n",
       "  <tbody>\n",
       "    <tr>\n",
       "      <th>0</th>\n",
       "      <td>159256</td>\n",
       "      <td>1</td>\n",
       "      <td>84.0</td>\n",
       "      <td>130</td>\n",
       "      <td>89</td>\n",
       "      <td>107</td>\n",
       "      <td>200</td>\n",
       "      <td>186</td>\n",
       "      <td>49</td>\n",
       "      <td>115</td>\n",
       "      <td>14.2</td>\n",
       "      <td>1</td>\n",
       "      <td>0.9</td>\n",
       "      <td>25</td>\n",
       "      <td>32</td>\n",
       "      <td>0</td>\n",
       "      <td>42.424242</td>\n",
       "    </tr>\n",
       "    <tr>\n",
       "      <th>1</th>\n",
       "      <td>159257</td>\n",
       "      <td>4</td>\n",
       "      <td>93.0</td>\n",
       "      <td>144</td>\n",
       "      <td>72</td>\n",
       "      <td>93</td>\n",
       "      <td>172</td>\n",
       "      <td>158</td>\n",
       "      <td>35</td>\n",
       "      <td>104</td>\n",
       "      <td>13.0</td>\n",
       "      <td>1</td>\n",
       "      <td>1.1</td>\n",
       "      <td>12</td>\n",
       "      <td>24</td>\n",
       "      <td>0</td>\n",
       "      <td>37.500000</td>\n",
       "    </tr>\n",
       "    <tr>\n",
       "      <th>2</th>\n",
       "      <td>159258</td>\n",
       "      <td>3</td>\n",
       "      <td>86.5</td>\n",
       "      <td>117</td>\n",
       "      <td>75</td>\n",
       "      <td>92</td>\n",
       "      <td>161</td>\n",
       "      <td>173</td>\n",
       "      <td>39</td>\n",
       "      <td>88</td>\n",
       "      <td>15.4</td>\n",
       "      <td>1</td>\n",
       "      <td>1.4</td>\n",
       "      <td>60</td>\n",
       "      <td>36</td>\n",
       "      <td>0</td>\n",
       "      <td>41.176471</td>\n",
       "    </tr>\n",
       "    <tr>\n",
       "      <th>3</th>\n",
       "      <td>159259</td>\n",
       "      <td>1</td>\n",
       "      <td>67.0</td>\n",
       "      <td>116</td>\n",
       "      <td>62</td>\n",
       "      <td>91</td>\n",
       "      <td>213</td>\n",
       "      <td>47</td>\n",
       "      <td>75</td>\n",
       "      <td>128</td>\n",
       "      <td>14.5</td>\n",
       "      <td>1</td>\n",
       "      <td>0.6</td>\n",
       "      <td>18</td>\n",
       "      <td>10</td>\n",
       "      <td>1</td>\n",
       "      <td>31.250000</td>\n",
       "    </tr>\n",
       "    <tr>\n",
       "      <th>4</th>\n",
       "      <td>159260</td>\n",
       "      <td>1</td>\n",
       "      <td>89.4</td>\n",
       "      <td>132</td>\n",
       "      <td>94</td>\n",
       "      <td>79</td>\n",
       "      <td>170</td>\n",
       "      <td>100</td>\n",
       "      <td>39</td>\n",
       "      <td>123</td>\n",
       "      <td>16.5</td>\n",
       "      <td>1</td>\n",
       "      <td>1.0</td>\n",
       "      <td>39</td>\n",
       "      <td>27</td>\n",
       "      <td>1</td>\n",
       "      <td>44.117647</td>\n",
       "    </tr>\n",
       "  </tbody>\n",
       "</table>\n",
       "</div>"
      ],
      "text/plain": [
       "       id  age  waist(cm)  systolic  relaxation  fasting blood sugar  \\\n",
       "0  159256    1       84.0       130          89                  107   \n",
       "1  159257    4       93.0       144          72                   93   \n",
       "2  159258    3       86.5       117          75                   92   \n",
       "3  159259    1       67.0       116          62                   91   \n",
       "4  159260    1       89.4       132          94                   79   \n",
       "\n",
       "   Cholesterol  triglyceride  HDL  LDL  hemoglobin  Urine protein  \\\n",
       "0          200           186   49  115        14.2              1   \n",
       "1          172           158   35  104        13.0              1   \n",
       "2          161           173   39   88        15.4              1   \n",
       "3          213            47   75  128        14.5              1   \n",
       "4          170           100   39  123        16.5              1   \n",
       "\n",
       "   serum creatinine  ALT  Gtp  dental caries        BMI  \n",
       "0               0.9   25   32              0  42.424242  \n",
       "1               1.1   12   24              0  37.500000  \n",
       "2               1.4   60   36              0  41.176471  \n",
       "3               0.6   18   10              1  31.250000  \n",
       "4               1.0   39   27              1  44.117647  "
      ]
     },
     "execution_count": 24,
     "metadata": {},
     "output_type": "execute_result"
    }
   ],
   "source": [
    "test.head()"
   ]
  },
  {
   "cell_type": "code",
   "execution_count": 25,
   "id": "ed8328eb",
   "metadata": {
    "execution": {
     "iopub.execute_input": "2023-11-27T18:41:30.398922Z",
     "iopub.status.busy": "2023-11-27T18:41:30.398604Z",
     "iopub.status.idle": "2023-11-27T18:41:30.415573Z",
     "shell.execute_reply": "2023-11-27T18:41:30.414662Z"
    },
    "papermill": {
     "duration": 0.028147,
     "end_time": "2023-11-27T18:41:30.417366",
     "exception": false,
     "start_time": "2023-11-27T18:41:30.389219",
     "status": "completed"
    },
    "tags": []
   },
   "outputs": [
    {
     "data": {
      "text/html": [
       "<div>\n",
       "<style scoped>\n",
       "    .dataframe tbody tr th:only-of-type {\n",
       "        vertical-align: middle;\n",
       "    }\n",
       "\n",
       "    .dataframe tbody tr th {\n",
       "        vertical-align: top;\n",
       "    }\n",
       "\n",
       "    .dataframe thead th {\n",
       "        text-align: right;\n",
       "    }\n",
       "</style>\n",
       "<table border=\"1\" class=\"dataframe\">\n",
       "  <thead>\n",
       "    <tr style=\"text-align: right;\">\n",
       "      <th></th>\n",
       "      <th>age</th>\n",
       "      <th>waist(cm)</th>\n",
       "      <th>systolic</th>\n",
       "      <th>relaxation</th>\n",
       "      <th>fasting blood sugar</th>\n",
       "      <th>Cholesterol</th>\n",
       "      <th>triglyceride</th>\n",
       "      <th>HDL</th>\n",
       "      <th>LDL</th>\n",
       "      <th>hemoglobin</th>\n",
       "      <th>Urine protein</th>\n",
       "      <th>serum creatinine</th>\n",
       "      <th>ALT</th>\n",
       "      <th>Gtp</th>\n",
       "      <th>dental caries</th>\n",
       "      <th>BMI</th>\n",
       "    </tr>\n",
       "  </thead>\n",
       "  <tbody>\n",
       "    <tr>\n",
       "      <th>0</th>\n",
       "      <td>1</td>\n",
       "      <td>84.0</td>\n",
       "      <td>130</td>\n",
       "      <td>89</td>\n",
       "      <td>107</td>\n",
       "      <td>200</td>\n",
       "      <td>186</td>\n",
       "      <td>49</td>\n",
       "      <td>115</td>\n",
       "      <td>14.2</td>\n",
       "      <td>1</td>\n",
       "      <td>0.9</td>\n",
       "      <td>25</td>\n",
       "      <td>32</td>\n",
       "      <td>0</td>\n",
       "      <td>42.424242</td>\n",
       "    </tr>\n",
       "    <tr>\n",
       "      <th>1</th>\n",
       "      <td>4</td>\n",
       "      <td>93.0</td>\n",
       "      <td>144</td>\n",
       "      <td>72</td>\n",
       "      <td>93</td>\n",
       "      <td>172</td>\n",
       "      <td>158</td>\n",
       "      <td>35</td>\n",
       "      <td>104</td>\n",
       "      <td>13.0</td>\n",
       "      <td>1</td>\n",
       "      <td>1.1</td>\n",
       "      <td>12</td>\n",
       "      <td>24</td>\n",
       "      <td>0</td>\n",
       "      <td>37.500000</td>\n",
       "    </tr>\n",
       "    <tr>\n",
       "      <th>2</th>\n",
       "      <td>3</td>\n",
       "      <td>86.5</td>\n",
       "      <td>117</td>\n",
       "      <td>75</td>\n",
       "      <td>92</td>\n",
       "      <td>161</td>\n",
       "      <td>173</td>\n",
       "      <td>39</td>\n",
       "      <td>88</td>\n",
       "      <td>15.4</td>\n",
       "      <td>1</td>\n",
       "      <td>1.4</td>\n",
       "      <td>60</td>\n",
       "      <td>36</td>\n",
       "      <td>0</td>\n",
       "      <td>41.176471</td>\n",
       "    </tr>\n",
       "    <tr>\n",
       "      <th>3</th>\n",
       "      <td>1</td>\n",
       "      <td>67.0</td>\n",
       "      <td>116</td>\n",
       "      <td>62</td>\n",
       "      <td>91</td>\n",
       "      <td>213</td>\n",
       "      <td>47</td>\n",
       "      <td>75</td>\n",
       "      <td>128</td>\n",
       "      <td>14.5</td>\n",
       "      <td>1</td>\n",
       "      <td>0.6</td>\n",
       "      <td>18</td>\n",
       "      <td>10</td>\n",
       "      <td>1</td>\n",
       "      <td>31.250000</td>\n",
       "    </tr>\n",
       "    <tr>\n",
       "      <th>4</th>\n",
       "      <td>1</td>\n",
       "      <td>89.4</td>\n",
       "      <td>132</td>\n",
       "      <td>94</td>\n",
       "      <td>79</td>\n",
       "      <td>170</td>\n",
       "      <td>100</td>\n",
       "      <td>39</td>\n",
       "      <td>123</td>\n",
       "      <td>16.5</td>\n",
       "      <td>1</td>\n",
       "      <td>1.0</td>\n",
       "      <td>39</td>\n",
       "      <td>27</td>\n",
       "      <td>1</td>\n",
       "      <td>44.117647</td>\n",
       "    </tr>\n",
       "  </tbody>\n",
       "</table>\n",
       "</div>"
      ],
      "text/plain": [
       "   age  waist(cm)  systolic  relaxation  fasting blood sugar  Cholesterol  \\\n",
       "0    1       84.0       130          89                  107          200   \n",
       "1    4       93.0       144          72                   93          172   \n",
       "2    3       86.5       117          75                   92          161   \n",
       "3    1       67.0       116          62                   91          213   \n",
       "4    1       89.4       132          94                   79          170   \n",
       "\n",
       "   triglyceride  HDL  LDL  hemoglobin  Urine protein  serum creatinine  ALT  \\\n",
       "0           186   49  115        14.2              1               0.9   25   \n",
       "1           158   35  104        13.0              1               1.1   12   \n",
       "2           173   39   88        15.4              1               1.4   60   \n",
       "3            47   75  128        14.5              1               0.6   18   \n",
       "4           100   39  123        16.5              1               1.0   39   \n",
       "\n",
       "   Gtp  dental caries        BMI  \n",
       "0   32              0  42.424242  \n",
       "1   24              0  37.500000  \n",
       "2   36              0  41.176471  \n",
       "3   10              1  31.250000  \n",
       "4   27              1  44.117647  "
      ]
     },
     "execution_count": 25,
     "metadata": {},
     "output_type": "execute_result"
    }
   ],
   "source": [
    "X_test = test.drop(\"id\",axis=1)\n",
    "X_test.head()"
   ]
  },
  {
   "cell_type": "code",
   "execution_count": 26,
   "id": "acea357d",
   "metadata": {
    "execution": {
     "iopub.execute_input": "2023-11-27T18:41:30.436744Z",
     "iopub.status.busy": "2023-11-27T18:41:30.436072Z",
     "iopub.status.idle": "2023-11-27T18:41:30.535515Z",
     "shell.execute_reply": "2023-11-27T18:41:30.534823Z"
    },
    "papermill": {
     "duration": 0.110944,
     "end_time": "2023-11-27T18:41:30.537145",
     "exception": false,
     "start_time": "2023-11-27T18:41:30.426201",
     "status": "completed"
    },
    "tags": []
   },
   "outputs": [
    {
     "data": {
      "text/plain": [
       "array([1, 0, 1, ..., 1, 0, 0])"
      ]
     },
     "execution_count": 26,
     "metadata": {},
     "output_type": "execute_result"
    }
   ],
   "source": [
    "y_pred = xgboost.predict(X_test)\n",
    "y_pred"
   ]
  },
  {
   "cell_type": "code",
   "execution_count": 27,
   "id": "3829b3bb",
   "metadata": {
    "execution": {
     "iopub.execute_input": "2023-11-27T18:41:30.556107Z",
     "iopub.status.busy": "2023-11-27T18:41:30.555537Z",
     "iopub.status.idle": "2023-11-27T18:41:30.559555Z",
     "shell.execute_reply": "2023-11-27T18:41:30.559017Z"
    },
    "papermill": {
     "duration": 0.014737,
     "end_time": "2023-11-27T18:41:30.561017",
     "exception": false,
     "start_time": "2023-11-27T18:41:30.546280",
     "status": "completed"
    },
    "tags": []
   },
   "outputs": [],
   "source": [
    "result = pd.DataFrame(\n",
    "{\n",
    "    \"id\": test[\"id\"],\n",
    "    \"smoking\": y_pred\n",
    "})"
   ]
  },
  {
   "cell_type": "code",
   "execution_count": 28,
   "id": "d6ce7716",
   "metadata": {
    "execution": {
     "iopub.execute_input": "2023-11-27T18:41:30.634047Z",
     "iopub.status.busy": "2023-11-27T18:41:30.633355Z",
     "iopub.status.idle": "2023-11-27T18:41:30.640785Z",
     "shell.execute_reply": "2023-11-27T18:41:30.639741Z"
    },
    "papermill": {
     "duration": 0.07308,
     "end_time": "2023-11-27T18:41:30.642244",
     "exception": false,
     "start_time": "2023-11-27T18:41:30.569164",
     "status": "completed"
    },
    "tags": []
   },
   "outputs": [
    {
     "data": {
      "text/html": [
       "<div>\n",
       "<style scoped>\n",
       "    .dataframe tbody tr th:only-of-type {\n",
       "        vertical-align: middle;\n",
       "    }\n",
       "\n",
       "    .dataframe tbody tr th {\n",
       "        vertical-align: top;\n",
       "    }\n",
       "\n",
       "    .dataframe thead th {\n",
       "        text-align: right;\n",
       "    }\n",
       "</style>\n",
       "<table border=\"1\" class=\"dataframe\">\n",
       "  <thead>\n",
       "    <tr style=\"text-align: right;\">\n",
       "      <th></th>\n",
       "      <th>id</th>\n",
       "      <th>smoking</th>\n",
       "    </tr>\n",
       "  </thead>\n",
       "  <tbody>\n",
       "    <tr>\n",
       "      <th>0</th>\n",
       "      <td>159256</td>\n",
       "      <td>1</td>\n",
       "    </tr>\n",
       "    <tr>\n",
       "      <th>1</th>\n",
       "      <td>159257</td>\n",
       "      <td>0</td>\n",
       "    </tr>\n",
       "    <tr>\n",
       "      <th>2</th>\n",
       "      <td>159258</td>\n",
       "      <td>1</td>\n",
       "    </tr>\n",
       "    <tr>\n",
       "      <th>3</th>\n",
       "      <td>159259</td>\n",
       "      <td>0</td>\n",
       "    </tr>\n",
       "    <tr>\n",
       "      <th>4</th>\n",
       "      <td>159260</td>\n",
       "      <td>1</td>\n",
       "    </tr>\n",
       "  </tbody>\n",
       "</table>\n",
       "</div>"
      ],
      "text/plain": [
       "       id  smoking\n",
       "0  159256        1\n",
       "1  159257        0\n",
       "2  159258        1\n",
       "3  159259        0\n",
       "4  159260        1"
      ]
     },
     "execution_count": 28,
     "metadata": {},
     "output_type": "execute_result"
    }
   ],
   "source": [
    "result.head()"
   ]
  },
  {
   "cell_type": "code",
   "execution_count": 29,
   "id": "f42449ea",
   "metadata": {
    "execution": {
     "iopub.execute_input": "2023-11-27T18:41:30.660244Z",
     "iopub.status.busy": "2023-11-27T18:41:30.659797Z",
     "iopub.status.idle": "2023-11-27T18:41:30.764744Z",
     "shell.execute_reply": "2023-11-27T18:41:30.763544Z"
    },
    "papermill": {
     "duration": 0.116224,
     "end_time": "2023-11-27T18:41:30.766888",
     "exception": false,
     "start_time": "2023-11-27T18:41:30.650664",
     "status": "completed"
    },
    "tags": []
   },
   "outputs": [],
   "source": [
    "result.to_csv('/kaggle/working/submission.csv', index=False)"
   ]
  }
 ],
 "metadata": {
  "kaggle": {
   "accelerator": "none",
   "dataSources": [
    {
     "databundleVersionId": 6622892,
     "sourceId": 60891,
     "sourceType": "competition"
    }
   ],
   "dockerImageVersionId": 30579,
   "isGpuEnabled": false,
   "isInternetEnabled": true,
   "language": "python",
   "sourceType": "notebook"
  },
  "kernelspec": {
   "display_name": "Python 3",
   "language": "python",
   "name": "python3"
  },
  "language_info": {
   "codemirror_mode": {
    "name": "ipython",
    "version": 3
   },
   "file_extension": ".py",
   "mimetype": "text/x-python",
   "name": "python",
   "nbconvert_exporter": "python",
   "pygments_lexer": "ipython3",
   "version": "3.10.12"
  },
  "papermill": {
   "default_parameters": {},
   "duration": 55.522891,
   "end_time": "2023-11-27T18:41:31.394603",
   "environment_variables": {},
   "exception": null,
   "input_path": "__notebook__.ipynb",
   "output_path": "__notebook__.ipynb",
   "parameters": {},
   "start_time": "2023-11-27T18:40:35.871712",
   "version": "2.4.0"
  }
 },
 "nbformat": 4,
 "nbformat_minor": 5
}
